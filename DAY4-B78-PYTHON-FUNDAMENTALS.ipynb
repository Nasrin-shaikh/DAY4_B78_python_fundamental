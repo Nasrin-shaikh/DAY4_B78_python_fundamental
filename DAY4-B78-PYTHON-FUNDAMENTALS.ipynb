{
 "cells": [
  {
   "cell_type": "code",
   "execution_count": null,
   "id": "769e7a3f",
   "metadata": {},
   "outputs": [],
   "source": []
  },
  {
   "cell_type": "code",
   "execution_count": null,
   "id": "de389f97",
   "metadata": {},
   "outputs": [],
   "source": []
  },
  {
   "cell_type": "code",
   "execution_count": null,
   "id": "4007be5e",
   "metadata": {},
   "outputs": [],
   "source": []
  },
  {
   "cell_type": "code",
   "execution_count": null,
   "id": "06d60d2b",
   "metadata": {},
   "outputs": [],
   "source": []
  },
  {
   "cell_type": "code",
   "execution_count": null,
   "id": "8d3f26d0",
   "metadata": {},
   "outputs": [],
   "source": []
  },
  {
   "cell_type": "code",
   "execution_count": null,
   "id": "69ff8521",
   "metadata": {},
   "outputs": [],
   "source": [
    "INTRODUCTION TO LIST DATATYPE:"
   ]
  },
  {
   "cell_type": "code",
   "execution_count": null,
   "id": "a5747249",
   "metadata": {},
   "outputs": [],
   "source": [
    "DEFINITION: List is a collection of items declared in a perticular orders."
   ]
  },
  {
   "cell_type": "code",
   "execution_count": null,
   "id": "dc6a0859",
   "metadata": {},
   "outputs": [],
   "source": [
    "classification: It is classified as a mutable datatype; The is represented by square bracket[]"
   ]
  },
  {
   "cell_type": "code",
   "execution_count": 2,
   "id": "bb466e10",
   "metadata": {},
   "outputs": [],
   "source": [
    "students=['praveen','niveditha','sadiya','john','heena','kumar']"
   ]
  },
  {
   "cell_type": "code",
   "execution_count": 3,
   "id": "5cdf114a",
   "metadata": {},
   "outputs": [
    {
     "name": "stdout",
     "output_type": "stream",
     "text": [
      "['praveen', 'niveditha', 'sadiya', 'john', 'heena', 'kumar']\n"
     ]
    }
   ],
   "source": [
    "print(students)"
   ]
  },
  {
   "cell_type": "code",
   "execution_count": null,
   "id": "625dd34a",
   "metadata": {},
   "outputs": [],
   "source": [
    "Q: WHAT IS THE METHOD NAME TO VERIFY THE DATATYPE?"
   ]
  },
  {
   "cell_type": "code",
   "execution_count": null,
   "id": "ae8095e7",
   "metadata": {},
   "outputs": [],
   "source": [
    "IT IS type()"
   ]
  },
  {
   "cell_type": "code",
   "execution_count": 4,
   "id": "a519a6a7",
   "metadata": {},
   "outputs": [
    {
     "data": {
      "text/plain": [
       "list"
      ]
     },
     "execution_count": 4,
     "metadata": {},
     "output_type": "execute_result"
    }
   ],
   "source": [
    "type(students)"
   ]
  },
  {
   "cell_type": "raw",
   "id": "2ea8d345",
   "metadata": {},
   "source": [
    "INTRODUCTION TO INDEXING:  Whenever we creating a list datatype internally python will creating a index value.\n",
    "index value started with 0,1,2,3...."
   ]
  },
  {
   "cell_type": "code",
   "execution_count": null,
   "id": "f074daa8",
   "metadata": {},
   "outputs": [],
   "source": [
    "#  REQ: I want to get the name of niveditha on the output "
   ]
  },
  {
   "cell_type": "code",
   "execution_count": 5,
   "id": "1c70a5c4",
   "metadata": {},
   "outputs": [
    {
     "name": "stdout",
     "output_type": "stream",
     "text": [
      "niveditha\n"
     ]
    }
   ],
   "source": [
    "print(students[1])"
   ]
  },
  {
   "cell_type": "code",
   "execution_count": null,
   "id": "b45e74c4",
   "metadata": {},
   "outputs": [],
   "source": [
    "Q : By using which method name we can correct format /how to make format correct"
   ]
  },
  {
   "cell_type": "code",
   "execution_count": null,
   "id": "69fbe699",
   "metadata": {},
   "outputs": [],
   "source": [
    "By using .title()"
   ]
  },
  {
   "cell_type": "code",
   "execution_count": 6,
   "id": "27898ace",
   "metadata": {},
   "outputs": [
    {
     "ename": "AttributeError",
     "evalue": "'list' object has no attribute 'title'",
     "output_type": "error",
     "traceback": [
      "\u001b[1;31m---------------------------------------------------------------------------\u001b[0m",
      "\u001b[1;31mAttributeError\u001b[0m                            Traceback (most recent call last)",
      "Cell \u001b[1;32mIn[6], line 1\u001b[0m\n\u001b[1;32m----> 1\u001b[0m \u001b[38;5;28mprint\u001b[39m(\u001b[43mstudents\u001b[49m\u001b[38;5;241;43m.\u001b[39;49m\u001b[43mtitle\u001b[49m())\n",
      "\u001b[1;31mAttributeError\u001b[0m: 'list' object has no attribute 'title'"
     ]
    }
   ],
   "source": [
    "print(students.title())"
   ]
  },
  {
   "cell_type": "code",
   "execution_count": 7,
   "id": "ab20c89b",
   "metadata": {},
   "outputs": [
    {
     "name": "stdout",
     "output_type": "stream",
     "text": [
      "Niveditha\n"
     ]
    }
   ],
   "source": [
    "print(students[1].title())"
   ]
  },
  {
   "cell_type": "code",
   "execution_count": null,
   "id": "c2b51c80",
   "metadata": {},
   "outputs": [],
   "source": [
    "HOW TO ADD NEW ELEMENT TO THE LIST?"
   ]
  },
  {
   "cell_type": "code",
   "execution_count": null,
   "id": "ce6856df",
   "metadata": {},
   "outputs": [],
   "source": [
    "# REQ: I want to add pranay to the above list\n",
    "fot this we have a append() method"
   ]
  },
  {
   "cell_type": "code",
   "execution_count": 8,
   "id": "97e75d97",
   "metadata": {},
   "outputs": [],
   "source": [
    "students.append('pranay')"
   ]
  },
  {
   "cell_type": "code",
   "execution_count": 9,
   "id": "ea4b1152",
   "metadata": {},
   "outputs": [
    {
     "name": "stdout",
     "output_type": "stream",
     "text": [
      "['praveen', 'niveditha', 'sadiya', 'john', 'heena', 'kumar', 'pranay']\n"
     ]
    }
   ],
   "source": [
    "print(students)"
   ]
  },
  {
   "cell_type": "code",
   "execution_count": null,
   "id": "d61c9486",
   "metadata": {},
   "outputs": [],
   "source": [
    "# REQ: I want to add manoj to the list"
   ]
  },
  {
   "cell_type": "code",
   "execution_count": 10,
   "id": "631f1627",
   "metadata": {},
   "outputs": [],
   "source": [
    "students.append(\"manoj\")"
   ]
  },
  {
   "cell_type": "raw",
   "id": "79fbc4a2",
   "metadata": {},
   "source": [
    "print(students)"
   ]
  },
  {
   "cell_type": "code",
   "execution_count": 11,
   "id": "5455dea4",
   "metadata": {},
   "outputs": [
    {
     "name": "stdout",
     "output_type": "stream",
     "text": [
      "['praveen', 'niveditha', 'sadiya', 'john', 'heena', 'kumar', 'pranay', 'manoj']\n"
     ]
    }
   ],
   "source": [
    "print(students)"
   ]
  },
  {
   "cell_type": "code",
   "execution_count": null,
   "id": "ff09eb12",
   "metadata": {},
   "outputs": [],
   "source": [
    "clear understood that whenever we are using append method ,element are getting added to the last possition only"
   ]
  },
  {
   "cell_type": "code",
   "execution_count": null,
   "id": "8fc77f57",
   "metadata": {},
   "outputs": [],
   "source": [
    "# REQ: i want to add three elements at a time"
   ]
  },
  {
   "cell_type": "code",
   "execution_count": 12,
   "id": "56395ae5",
   "metadata": {},
   "outputs": [
    {
     "ename": "TypeError",
     "evalue": "list.append() takes exactly one argument (3 given)",
     "output_type": "error",
     "traceback": [
      "\u001b[1;31m---------------------------------------------------------------------------\u001b[0m",
      "\u001b[1;31mTypeError\u001b[0m                                 Traceback (most recent call last)",
      "Cell \u001b[1;32mIn[12], line 1\u001b[0m\n\u001b[1;32m----> 1\u001b[0m \u001b[43mstudents\u001b[49m\u001b[38;5;241;43m.\u001b[39;49m\u001b[43mappend\u001b[49m\u001b[43m(\u001b[49m\u001b[38;5;124;43m\"\u001b[39;49m\u001b[38;5;124;43mnasrin\u001b[39;49m\u001b[38;5;124;43m\"\u001b[39;49m\u001b[43m,\u001b[49m\u001b[38;5;124;43m\"\u001b[39;49m\u001b[38;5;124;43msalim\u001b[39;49m\u001b[38;5;124;43m\"\u001b[39;49m\u001b[43m,\u001b[49m\u001b[38;5;124;43m\"\u001b[39;49m\u001b[38;5;124;43mshaikh\u001b[39;49m\u001b[38;5;124;43m\"\u001b[39;49m\u001b[43m)\u001b[49m\n",
      "\u001b[1;31mTypeError\u001b[0m: list.append() takes exactly one argument (3 given)"
     ]
    }
   ],
   "source": [
    "students.append(\"nasrin\",\"salim\",\"shaikh\")"
   ]
  },
  {
   "cell_type": "code",
   "execution_count": null,
   "id": "e30712ee",
   "metadata": {},
   "outputs": [],
   "source": [
    "IS THERE ANY WAY WE CAN ADD ELEMENT TO OUR CHOICE OF index POSITION\n",
    "YES: WE HAVE A INSERT METHOD WITH THE HELP OF INSERT METHOD WE CAN ADD ELEMENT IN OUR DESIRE index POSITION TO THE LIST"
   ]
  },
  {
   "cell_type": "code",
   "execution_count": null,
   "id": "62252810",
   "metadata": {},
   "outputs": [],
   "source": [
    "# REQ :i want to add visesha at the second index  position "
   ]
  },
  {
   "cell_type": "code",
   "execution_count": 13,
   "id": "f30c4ee3",
   "metadata": {},
   "outputs": [],
   "source": [
    "students.insert(2,'visesha')"
   ]
  },
  {
   "cell_type": "code",
   "execution_count": 15,
   "id": "e45f9dcf",
   "metadata": {},
   "outputs": [
    {
     "name": "stdout",
     "output_type": "stream",
     "text": [
      "['praveen', 'niveditha', 'visesha', 'sadiya', 'john', 'heena', 'kumar', 'pranay', 'manoj']\n"
     ]
    }
   ],
   "source": [
    "print(students)"
   ]
  },
  {
   "cell_type": "code",
   "execution_count": null,
   "id": "893da842",
   "metadata": {},
   "outputs": [],
   "source": [
    "let us conform"
   ]
  },
  {
   "cell_type": "code",
   "execution_count": 17,
   "id": "a395a89f",
   "metadata": {},
   "outputs": [
    {
     "name": "stdout",
     "output_type": "stream",
     "text": [
      "visesha\n"
     ]
    }
   ],
   "source": [
    "print(students[2])"
   ]
  },
  {
   "cell_type": "code",
   "execution_count": null,
   "id": "114cd046",
   "metadata": {},
   "outputs": [],
   "source": [
    "Q interview question: what is the different between append() and insert() in a list ?"
   ]
  },
  {
   "cell_type": "code",
   "execution_count": null,
   "id": "188fdeed",
   "metadata": {},
   "outputs": [],
   "source": [
    "By using append() element will be added to the last position of the list\n",
    "By using insert() we can able to add element in our desire place."
   ]
  },
  {
   "cell_type": "code",
   "execution_count": null,
   "id": "4ac24327",
   "metadata": {},
   "outputs": [],
   "source": [
    "HOW TO MODIFY ELEMENT IN THE LIST"
   ]
  },
  {
   "cell_type": "code",
   "execution_count": null,
   "id": "d219df19",
   "metadata": {},
   "outputs": [],
   "source": [
    "# REQ: I Want to modify the element in the list"
   ]
  },
  {
   "cell_type": "code",
   "execution_count": 18,
   "id": "fdc10a6f",
   "metadata": {},
   "outputs": [],
   "source": [
    "students[0]='ayesha'"
   ]
  },
  {
   "cell_type": "code",
   "execution_count": 19,
   "id": "6de1a313",
   "metadata": {},
   "outputs": [
    {
     "name": "stdout",
     "output_type": "stream",
     "text": [
      "['ayesha', 'niveditha', 'visesha', 'sadiya', 'john', 'heena', 'kumar', 'pranay', 'manoj']\n"
     ]
    }
   ],
   "source": [
    "print(students)"
   ]
  },
  {
   "cell_type": "code",
   "execution_count": null,
   "id": "6f5fa57d",
   "metadata": {},
   "outputs": [],
   "source": [
    "HOW TO DELETE ELEMENT IN THE LIST"
   ]
  },
  {
   "cell_type": "code",
   "execution_count": null,
   "id": "421958c3",
   "metadata": {},
   "outputs": [],
   "source": [
    "1. TEMPORARY DELETING: For temparary deleting we have a method pop\n",
    "    Note : By default pop will be deleting the last element in the list,if you needed you can specify \n",
    "           the index position of the element.pop will be storing deleted item in the variable that has been assigned"
   ]
  },
  {
   "cell_type": "code",
   "execution_count": 20,
   "id": "7a90862e",
   "metadata": {},
   "outputs": [],
   "source": [
    "x=students.pop()"
   ]
  },
  {
   "cell_type": "code",
   "execution_count": 21,
   "id": "096c4b36",
   "metadata": {},
   "outputs": [
    {
     "name": "stdout",
     "output_type": "stream",
     "text": [
      "['ayesha', 'niveditha', 'visesha', 'sadiya', 'john', 'heena', 'kumar', 'pranay']\n"
     ]
    }
   ],
   "source": [
    "print(students)"
   ]
  },
  {
   "cell_type": "code",
   "execution_count": 22,
   "id": "9f93c6c9",
   "metadata": {},
   "outputs": [
    {
     "name": "stdout",
     "output_type": "stream",
     "text": [
      "manoj\n"
     ]
    }
   ],
   "source": [
    "print(x)"
   ]
  },
  {
   "cell_type": "code",
   "execution_count": 23,
   "id": "f2096819",
   "metadata": {},
   "outputs": [],
   "source": [
    "z=students.pop(2)"
   ]
  },
  {
   "cell_type": "code",
   "execution_count": 24,
   "id": "801116be",
   "metadata": {},
   "outputs": [
    {
     "name": "stdout",
     "output_type": "stream",
     "text": [
      "['ayesha', 'niveditha', 'sadiya', 'john', 'heena', 'kumar', 'pranay']\n"
     ]
    }
   ],
   "source": [
    "print(students)"
   ]
  },
  {
   "cell_type": "code",
   "execution_count": 25,
   "id": "e8c71e37",
   "metadata": {},
   "outputs": [
    {
     "ename": "TypeError",
     "evalue": "pop expected at most 1 argument, got 2",
     "output_type": "error",
     "traceback": [
      "\u001b[1;31m---------------------------------------------------------------------------\u001b[0m",
      "\u001b[1;31mTypeError\u001b[0m                                 Traceback (most recent call last)",
      "Cell \u001b[1;32mIn[25], line 1\u001b[0m\n\u001b[1;32m----> 1\u001b[0m y\u001b[38;5;241m=\u001b[39m\u001b[43mstudents\u001b[49m\u001b[38;5;241;43m.\u001b[39;49m\u001b[43mpop\u001b[49m\u001b[43m(\u001b[49m\u001b[38;5;241;43m2\u001b[39;49m\u001b[43m,\u001b[49m\u001b[38;5;241;43m1\u001b[39;49m\u001b[43m)\u001b[49m\n",
      "\u001b[1;31mTypeError\u001b[0m: pop expected at most 1 argument, got 2"
     ]
    }
   ],
   "source": [
    "y=students.pop(2,1)"
   ]
  },
  {
   "cell_type": "code",
   "execution_count": null,
   "id": "b32f5ca9",
   "metadata": {},
   "outputs": [],
   "source": [
    "2.PERMANeNTLY DELETING METHOD"
   ]
  },
  {
   "cell_type": "code",
   "execution_count": 26,
   "id": "f53a7355",
   "metadata": {},
   "outputs": [],
   "source": [
    "del students[1]"
   ]
  },
  {
   "cell_type": "code",
   "execution_count": 27,
   "id": "c3d25713",
   "metadata": {},
   "outputs": [
    {
     "name": "stdout",
     "output_type": "stream",
     "text": [
      "['ayesha', 'sadiya', 'john', 'heena', 'kumar', 'pranay']\n"
     ]
    }
   ],
   "source": [
    "print(students)"
   ]
  },
  {
   "cell_type": "code",
   "execution_count": null,
   "id": "efdb5768",
   "metadata": {},
   "outputs": [],
   "source": [
    "Q: what is the different between pop() and del method?"
   ]
  },
  {
   "cell_type": "code",
   "execution_count": null,
   "id": "5061b756",
   "metadata": {},
   "outputs": [],
   "source": [
    "pop method is use to delete item temporary and del method is use for permanently deletion"
   ]
  }
 ],
 "metadata": {
  "kernelspec": {
   "display_name": "Python 3 (ipykernel)",
   "language": "python",
   "name": "python3"
  },
  "language_info": {
   "codemirror_mode": {
    "name": "ipython",
    "version": 3
   },
   "file_extension": ".py",
   "mimetype": "text/x-python",
   "name": "python",
   "nbconvert_exporter": "python",
   "pygments_lexer": "ipython3",
   "version": "3.10.9"
  }
 },
 "nbformat": 4,
 "nbformat_minor": 5
}
